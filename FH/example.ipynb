{
 "cells": [
  {
   "cell_type": "code",
   "execution_count": 7,
   "id": "511a9b2c",
   "metadata": {},
   "outputs": [],
   "source": [
    "import numpy as np"
   ]
  },
  {
   "cell_type": "code",
   "execution_count": null,
   "id": "1eca0310",
   "metadata": {},
   "outputs": [
    {
     "name": "stdout",
     "output_type": "stream",
     "text": [
      "peak1 & 5.497& 0.056\n",
      "peak2 & 10.280& 0.057\n",
      "peak3 & 15.161& 0.054\n",
      "peak4 & 20.142& 0.052\n",
      "peak5 & 25.174& 0.049\n",
      "peak6 & 30.186& 0.065\n"
     ]
    }
   ],
   "source": [
    "data= [5.496668852960843,\n",
    "  10.280408141474927,\n",
    "  15.161320277469338,\n",
    "  20.142160957077685,\n",
    "  25.174354030430642,\n",
    "  30.185766538598934]\n",
    "\n",
    "sigma = [0.055773981325348825,\n",
    "  0.057019339503001504,\n",
    "  0.05379452445715267,\n",
    "  0.05202218014655529,\n",
    "  0.0492616017748345,\n",
    "  0.06546123856636914]\n",
    "\n",
    "for i in range(6):\n",
    "  print(f\"peak{i+1} & {data[i]:.2f}& {sigma[i]:.2f}\")"
   ]
  },
  {
   "cell_type": "code",
   "execution_count": 9,
   "id": "58f3e670",
   "metadata": {},
   "outputs": [
    {
     "name": "stdout",
     "output_type": "stream",
     "text": [
      "interval1 & 4.78& 0.08\n",
      "interval2 & 4.88& 0.08\n",
      "interval3 & 4.98& 0.07\n",
      "interval4 & 5.03& 0.07\n",
      "interval5 & 5.01& 0.08\n"
     ]
    }
   ],
   "source": [
    "interval=[4.783739288514084, 4.880912135994411, 4.980840679608347, 5.032193073352957, 5.011412508168291]\n",
    "sigma2= [0.07976178326892465, 0.07839040718691123, 0.07483420400306165, 0.07164504614153744, 0.08192605912690706]\n",
    "\n",
    "for i in range(5):\n",
    "    print(f\"interval{i+1} & {interval[i]:.2f}& {sigma2[i]:.2f}\")"
   ]
  },
  {
   "cell_type": "code",
   "execution_count": 10,
   "id": "9c405f11",
   "metadata": {},
   "outputs": [],
   "source": [
    "avg=[('T184_U1-0,82_U3-1,63', np.float64(4.957036543899593)),\n",
    " ('T170_U1-0,82_U3-1,34', np.float64(4.896797262171094)),\n",
    " ('T204_U1-0,82_U3-1,63', np.float64(4.932365790539872)),\n",
    " ('T170_U1-0,82_U3-1,68', np.float64(4.9201603427084395)),\n",
    " ('T170_U1-0,80_U3-1,68', np.float64(4.994707628261017)),\n",
    " ('T170_U1-0,82_U3-1,02', np.float64(4.951661733182144)),\n",
    " ('T170_U1-0,66_U3-1,68', np.float64(4.983924549299026)),\n",
    " ('T170_U1-0,88_U3-1,68', np.float64(4.920255929510687)),\n",
    " ('T190_U1-0,82_U3-1,63', np.float64(4.9420372975817575)),\n",
    " ('T195_U1-0,82_U3-1,63', np.float64(4.956942647789267))]\n",
    "\n",
    "\n",
    "err_avg=[('T184_U1-0,82_U3-1,63', 0.03382695692241962),\n",
    " ('T170_U1-0,82_U3-1,34', 0.04050952853447525),\n",
    " ('T204_U1-0,82_U3-1,63', 0.0349156432353695),\n",
    " ('T170_U1-0,82_U3-1,68', 0.03305024988509815),\n",
    " ('T170_U1-0,80_U3-1,68', 0.038474592038117726),\n",
    " ('T170_U1-0,82_U3-1,02', 0.038913266225661575),\n",
    " ('T170_U1-0,66_U3-1,68', 0.0345092876783611),\n",
    " ('T170_U1-0,88_U3-1,68', 0.034371265890719226),\n",
    " ('T190_U1-0,82_U3-1,63', 0.03445633283263929),\n",
    " ('T195_U1-0,82_U3-1,63', 0.03605775863429064)]"
   ]
  },
  {
   "cell_type": "code",
   "execution_count": null,
   "id": "d93ef534",
   "metadata": {},
   "outputs": [],
   "source": []
  }
 ],
 "metadata": {
  "kernelspec": {
   "display_name": "proot",
   "language": "python",
   "name": "python3"
  },
  "language_info": {
   "codemirror_mode": {
    "name": "ipython",
    "version": 3
   },
   "file_extension": ".py",
   "mimetype": "text/x-python",
   "name": "python",
   "nbconvert_exporter": "python",
   "pygments_lexer": "ipython3",
   "version": "3.11.11"
  }
 },
 "nbformat": 4,
 "nbformat_minor": 5
}
