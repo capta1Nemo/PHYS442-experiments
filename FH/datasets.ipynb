{
 "cells": [
  {
   "cell_type": "code",
   "execution_count": null,
   "id": "e86affb8",
   "metadata": {},
   "outputs": [
    {
     "name": "stdout",
     "output_type": "stream",
     "text": [
      "Processed: /home/master/Desktop/PHYS442-experiments/FH/FH_Data/U1/T170_U1-0,82_U3-1,68.txt → modified_datasets/T170_U1-0,82_U3-1,68.txt\n",
      "Processed: /home/master/Desktop/PHYS442-experiments/FH/FH_Data/U1/T170_U1-0,80_U3-1,68.txt → modified_datasets/T170_U1-0,80_U3-1,68.txt\n",
      "Processed: /home/master/Desktop/PHYS442-experiments/FH/FH_Data/U1/T170_U1-0,66_U3-1,68.txt → modified_datasets/T170_U1-0,66_U3-1,68.txt\n",
      "Processed: /home/master/Desktop/PHYS442-experiments/FH/FH_Data/T/T184_U1-0,82_U3-1,63.txt → modified_datasets/T184_U1-0,82_U3-1,63.txt\n",
      "Processed: /home/master/Desktop/PHYS442-experiments/FH/FH_Data/T/T204_U1-0,82_U3-1,63.txt → modified_datasets/T204_U1-0,82_U3-1,63.txt\n",
      "Processed: /home/master/Desktop/PHYS442-experiments/FH/FH_Data/T/T190_U1-0,82_U3-1,63.txt → modified_datasets/T190_U1-0,82_U3-1,63.txt\n",
      "Processed: /home/master/Desktop/PHYS442-experiments/FH/FH_Data/T/T195_U1-0,82_U3-1,63.txt → modified_datasets/T195_U1-0,82_U3-1,63.txt\n",
      "Processed: /home/master/Desktop/PHYS442-experiments/FH/FH_Data/U3/T170_U1-0,82_U3-1,34.txt → modified_datasets/T170_U1-0,82_U3-1,34.txt\n",
      "Processed: /home/master/Desktop/PHYS442-experiments/FH/FH_Data/U3/T170_U1-0,82_U3-1,02.txt → modified_datasets/T170_U1-0,82_U3-1,02.txt\n",
      "Processed: /home/master/Desktop/PHYS442-experiments/FH/FH_Data/U3/T170_U1-0,88_U3-1,68.txt → modified_datasets/T170_U1-0,88_U3-1,68.txt\n"
     ]
    }
   ],
   "source": [
    "import os\n",
    "for i in [\"U1\",\"T\",\"U3\"]:\n",
    "\n",
    "    input_dir = f\"/home/master/Desktop/PHYS442-experiments/FH/FH_Data/{i}\"\n",
    "\n",
    "    input_files = [\n",
    "        f for f in os.listdir(input_dir)\n",
    "        if f.endswith(\".txt\") and os.path.isfile(os.path.join(input_dir, f))\n",
    "    ]\n",
    "    os.makedirs(\"modified_datasets\", exist_ok=True)\n",
    "    for filename in input_files:\n",
    "        input_path = os.path.join(input_dir, filename)\n",
    "        output_path = os.path.join(\"modified_datasets\", filename)\n",
    "\n",
    "        with open(input_path, \"r\") as infile, open(output_path, \"w\") as outfile:\n",
    "            \n",
    "            for _ in range(5):\n",
    "                next(infile)\n",
    "            \n",
    "            for line in infile:\n",
    "                columns = line.strip().split()\n",
    "                if len(columns) >= 5:\n",
    "                    outfile.write(f\"{columns[4]}\\t{columns[3]}\\t0.15\\t0.005\\n\") #[x,y,sx,sy]\n",
    "\n",
    "        print(f\"Processed: {input_path} → {output_path}\")\n",
    "\n",
    "\n"
   ]
  },
  {
   "cell_type": "code",
   "execution_count": null,
   "id": "890d51b2",
   "metadata": {},
   "outputs": [
    {
     "name": "stdout",
     "output_type": "stream",
     "text": [
      "['T184_U1-0,82_U3-1,63.txt', 'T170_U1-0,82_U3-1,34.txt', 'T204_U1-0,82_U3-1,63.txt', 'T170_U1-0,82_U3-1,68.txt', 'T170_U1-0,80_U3-1,68.txt', 'T170_U1-0,82_U3-1,02.txt', 'T170_U1-0,66_U3-1,68.txt', 'T170_U1-0,88_U3-1,68.txt', 'T190_U1-0,82_U3-1,63.txt', 'T195_U1-0,82_U3-1,63.txt']\n"
     ]
    },
    {
     "name": "stderr",
     "output_type": "stream",
     "text": [
      "Info in <TCanvas::Print>: png file T184_U1-0,82_U3-1,63_fit.png has been created\n",
      "Info in <TCanvas::Print>: png file T170_U1-0,82_U3-1,34_fit.png has been created\n",
      "Info in <TCanvas::Print>: png file T204_U1-0,82_U3-1,63_fit.png has been created\n",
      "Info in <TCanvas::Print>: png file T170_U1-0,82_U3-1,68_fit.png has been created\n",
      "Info in <TCanvas::Print>: png file T170_U1-0,80_U3-1,68_fit.png has been created\n",
      "Info in <TCanvas::Print>: png file T170_U1-0,82_U3-1,02_fit.png has been created\n",
      "Info in <TCanvas::Print>: png file T170_U1-0,66_U3-1,68_fit.png has been created\n",
      "Info in <TCanvas::Print>: png file T170_U1-0,88_U3-1,68_fit.png has been created\n",
      "Info in <TCanvas::Print>: png file T190_U1-0,82_U3-1,63_fit.png has been created\n",
      "Warning in <TCanvas::Constructor>: Deleting canvas with same name: c1_T195_U1-0,82_U3-1,63\n",
      "Info in <TCanvas::Print>: png file T195_U1-0,82_U3-1,63_fit.png has been created\n"
     ]
    }
   ],
   "source": [
    "import ROOT\n",
    "\n",
    "ROOT.gStyle.SetOptStat(0) \n",
    "ROOT.gStyle.SetOptFit(0)\n",
    "input_files = [\n",
    "        f for f in os.listdir(\"/home/master/Desktop/PHYS442-experiments/FH/modified_datasets\")\n",
    "        if f.endswith(\".txt\")\n",
    "    ]\n",
    "print(input_files)\n",
    "values={}\n",
    "errors={}\n",
    "\n",
    "for i in input_files:\n",
    "    c1 = ROOT.TCanvas(f\"c1_{i[:-4]}\", f\"Canvas for {i}\", 1200, 900)\n",
    "    ROOT.gStyle.SetOptFit(0000) \n",
    "    file_path = f\"/home/master/Desktop/PHYS442-experiments/FH/modified_datasets/{i}\"\n",
    "    mygraph = ROOT.TGraphErrors(file_path)\n",
    "\n",
    "  \n",
    "    mygraph.SetTitle(i[:-4])\n",
    "\n",
    "    mygraph.Draw(\"A*\")\n",
    "    values[i[:-4]]=[]\n",
    "    errors[i[:-4]]=[]\n",
    "    legend = ROOT.TLegend(0, 0.72, 0.62, 0.88)  # (x1, y1, x2, y2)\n",
    "    legend.SetBorderSize(0)\n",
    "    legend.SetFillStyle(0)\n",
    "    for j in range(6):\n",
    "        fit_name = f\"gauss_fit_{j}\"\n",
    "        xmin=4.5 + 4.9 * j\n",
    "        xmax=6.5 + 4.9 * j\n",
    "        gauss_fit = ROOT.TF1(fit_name, \"[0]*TMath::Gaus(x,[1],[2])\", xmin, xmax)\n",
    "        gauss_fit.SetParameters(10, (xmin + xmax)/2, 0.5)\n",
    "        gauss_fit.SetLineWidth(3)\n",
    "        mygraph.Fit(gauss_fit, \"R+Q\")\n",
    "        mean = gauss_fit.GetParameter(1)\n",
    "        error= gauss_fit.GetParError(1)\n",
    "        values[i[:-4]].append(mean)\n",
    "        errors[i[:-4]].append(error)\n",
    "        legend.AddEntry(\"\", f\"Fit {j+1}: $\\lambda$ = {mean:.2f} $\\pm$ {error:.2f}\", \"n\")\n",
    "\n",
    "    legend.Draw()\n",
    "\n",
    "    mygraph.GetXaxis().SetTitle(\"U2 accelerating potential (Volts)\")\n",
    "    mygraph.GetYaxis().SetTitle(\"Anode current (nA)\")\n",
    "\n",
    "    mygraph.GetXaxis().SetLimits(0, 35)\n",
    "    mygraph.SetMinimum(-0.5)\n",
    "    mygraph.SetMaximum(12)\n",
    "\n",
    "    c1.Update()\n",
    "    c1.SaveAs(f\"{i[:-4]}_fit.png\")"
   ]
  },
  {
   "cell_type": "code",
   "execution_count": 72,
   "id": "301326aa",
   "metadata": {},
   "outputs": [
    {
     "data": {
      "text/plain": [
       "{'T184_U1-0,82_U3-1,63': [5.4890565139307785,\n",
       "  10.27272488512292,\n",
       "  15.183424070044033,\n",
       "  20.183745336018198,\n",
       "  25.198750973531265,\n",
       "  30.235029921900296],\n",
       " 'T170_U1-0,82_U3-1,34': [5.499636944812094,\n",
       "  10.203886236768522,\n",
       "  15.149616533630686,\n",
       "  20.142429154414923,\n",
       "  25.123811385332527,\n",
       "  30.02964544912464],\n",
       " 'T204_U1-0,82_U3-1,63': [5.524512972643034,\n",
       "  10.284469609369335,\n",
       "  15.1444952555365,\n",
       "  20.07639010767642,\n",
       "  25.186969758789267,\n",
       "  30.181601891030237],\n",
       " 'T170_U1-0,82_U3-1,68': [5.436589387717851,\n",
       "  10.307398469230804,\n",
       "  15.231791576700774,\n",
       "  20.20907962290137,\n",
       "  25.322215855704577,\n",
       "  30.04077784721189],\n",
       " 'T170_U1-0,80_U3-1,68': [5.483370035957885,\n",
       "  10.25552123383695,\n",
       "  15.169494483809418,\n",
       "  20.174182520581894,\n",
       "  25.204627900103382,\n",
       "  30.451825168372284],\n",
       " 'T170_U1-0,82_U3-1,02': [5.446271370814353,\n",
       "  10.175714253038217,\n",
       "  15.099409851553524,\n",
       "  20.098012698551024,\n",
       "  25.171787137288668,\n",
       "  30.16305452101751],\n",
       " 'T170_U1-0,66_U3-1,68': [5.4123777148772065,\n",
       "  10.271134432472335,\n",
       "  15.169471654571048,\n",
       "  20.155798830633202,\n",
       "  25.2377126962777,\n",
       "  30.604688396867587],\n",
       " 'T170_U1-0,88_U3-1,68': [5.4738070802932794,\n",
       "  10.35961708174298,\n",
       "  15.171402123195627,\n",
       "  20.24697865799381,\n",
       "  25.236230169010543,\n",
       "  30.1507646567451],\n",
       " 'T190_U1-0,82_U3-1,63': [5.496668852960843,\n",
       "  10.280408141474927,\n",
       "  15.161320277469338,\n",
       "  20.142160957077685,\n",
       "  25.174354030430642,\n",
       "  30.185766538598934],\n",
       " 'T195_U1-0,82_U3-1,63': [5.490553653615125,\n",
       "  10.307269068807262,\n",
       "  15.19687432908629,\n",
       "  20.18041825518749,\n",
       "  25.179271551372366,\n",
       "  30.243617469196103]}"
      ]
     },
     "execution_count": 72,
     "metadata": {},
     "output_type": "execute_result"
    }
   ],
   "source": [
    "values"
   ]
  },
  {
   "cell_type": "code",
   "execution_count": 73,
   "id": "c3d88539",
   "metadata": {},
   "outputs": [
    {
     "data": {
      "text/plain": [
       "{'T184_U1-0,82_U3-1,63': [0.050727787073004314,\n",
       "  0.061130170364732846,\n",
       "  0.051439036108397444,\n",
       "  0.05808580574936965,\n",
       "  0.05080535291990046,\n",
       "  0.043223767626198194],\n",
       " 'T170_U1-0,82_U3-1,34': [0.05544136689793154,\n",
       "  0.06327542722966367,\n",
       "  0.058538469568627745,\n",
       "  0.06794213550809824,\n",
       "  0.0806659027584868,\n",
       "  0.04333010664614139],\n",
       " 'T204_U1-0,82_U3-1,63': [0.053040608264449146,\n",
       "  0.05832427566311242,\n",
       "  0.05147123211685313,\n",
       "  0.06176965967892566,\n",
       "  0.0490613701229077,\n",
       "  0.05646456127739992],\n",
       " 'T170_U1-0,82_U3-1,68': [0.04884353549854582,\n",
       "  0.05464631853503204,\n",
       "  0.04620493914900088,\n",
       "  0.05645027591062935,\n",
       "  0.05164254160544916,\n",
       "  0.05511143857925961],\n",
       " 'T170_U1-0,80_U3-1,68': [0.05144145066082834,\n",
       "  0.06768302860093621,\n",
       "  0.05798116680229424,\n",
       "  0.06391497457470068,\n",
       "  0.05535236430224469,\n",
       "  0.06503379551920026],\n",
       " 'T170_U1-0,82_U3-1,02': [0.056804283823335126,\n",
       "  0.06300721726146352,\n",
       "  0.05708221952689508,\n",
       "  0.05466539318291053,\n",
       "  0.03867514012660692,\n",
       "  39.04363667163059],\n",
       " 'T170_U1-0,66_U3-1,68': [0.035761235874761606,\n",
       "  0.04958002502037004,\n",
       "  0.05328198711107601,\n",
       "  0.06211895761132693,\n",
       "  0.05661558639769878,\n",
       "  0.08722935368238698],\n",
       " 'T170_U1-0,88_U3-1,68': [0.058341224930264744,\n",
       "  0.04997280123546302,\n",
       "  0.056890320257155645,\n",
       "  0.07574587077217017,\n",
       "  0.04446458069341265,\n",
       "  0.042970253822047326],\n",
       " 'T190_U1-0,82_U3-1,63': [0.055773981325348825,\n",
       "  0.057019339503001504,\n",
       "  0.05379452445715267,\n",
       "  0.05202218014655529,\n",
       "  0.0492616017748345,\n",
       "  0.06546123856636914],\n",
       " 'T195_U1-0,82_U3-1,63': [0.05350755614855854,\n",
       "  0.06486486780142582,\n",
       "  0.052877398335534224,\n",
       "  0.0605013232151755,\n",
       "  0.053026380878842566,\n",
       "  0.053715920772363375]}"
      ]
     },
     "execution_count": 73,
     "metadata": {},
     "output_type": "execute_result"
    }
   ],
   "source": [
    "errors"
   ]
  },
  {
   "cell_type": "code",
   "execution_count": 74,
   "id": "922f5597",
   "metadata": {},
   "outputs": [
    {
     "name": "stdout",
     "output_type": "stream",
     "text": [
      "T184_U1-0,82_U3-1,63\n",
      "Intervals between means: [4.783668371192141, 4.910699184921114, 5.000321265974165, 5.015005637513067, 5.036278948369031]\n",
      "Uncertainties of intervals: [0.07943680576499364, 0.07989287931087649, 0.0775882417980619, 0.07716958413046647, 0.0667044074489776]\n",
      "T170_U1-0,82_U3-1,34\n",
      "Intervals between means: [4.704249291956428, 4.945730296862164, 4.992812620784237, 4.981382230917603, 4.905834063792113]\n",
      "Uncertainties of intervals: [0.08412802657026683, 0.08620053428218191, 0.08968213978735086, 0.1054662109172527, 0.09156683902924483]\n",
      "T204_U1-0,82_U3-1,63\n",
      "Intervals between means: [4.759956636726301, 4.8600256461671645, 4.931894852139921, 5.110579651112847, 4.9946321322409695]\n",
      "Uncertainties of intervals: [0.07883544416497873, 0.07778823090451216, 0.08040384687611202, 0.07888288087530294, 0.0748015021145043]\n",
      "T170_U1-0,82_U3-1,68\n",
      "Intervals between means: [4.870809081512953, 4.924393107469969, 4.977288046200597, 5.113136232803207, 4.718561991507311]\n",
      "Uncertainties of intervals: [0.07329332227038077, 0.07156197685359915, 0.07294881803119949, 0.07650872991924992, 0.07552630512441379]\n",
      "T170_U1-0,80_U3-1,68\n",
      "Intervals between means: [4.772151197879064, 4.913973249972468, 5.004688036772476, 5.030445379521488, 5.247197268268902]\n",
      "Uncertainties of intervals: [0.08501302962890797, 0.08912243300286755, 0.08629565272156009, 0.0845518078383487, 0.08540069550935497]\n",
      "T170_U1-0,82_U3-1,02\n",
      "Intervals between means: [4.729442882223864, 4.923695598515307, 4.9986028469975, 5.073774438737644, 4.991267383728843]\n",
      "Uncertainties of intervals: [0.08483298938334827, 0.08501934611104645, 0.07903597280959375, 0.066963211360081, 39.04365582668663]\n",
      "T170_U1-0,66_U3-1,68\n",
      "Intervals between means: [4.858756717595129, 4.8983372220987125, 4.986327176062154, 5.081913865644498, 5.366975700589887]\n",
      "Uncertainties of intervals: [0.061131373878810014, 0.07278151572704013, 0.0818396911359195, 0.08404813809878912, 0.1039917533605538]\n",
      "T170_U1-0,88_U3-1,68\n",
      "Intervals between means: [4.885810001449701, 4.811785041452646, 5.075576534798184, 4.989251511016732, 4.9145344877345565]\n",
      "Uncertainties of intervals: [0.07681783249794828, 0.07572178948150148, 0.09473091088971983, 0.08783243065790282, 0.06183479319745622]\n",
      "T190_U1-0,82_U3-1,63\n",
      "Intervals between means: [4.783739288514084, 4.880912135994411, 4.980840679608347, 5.032193073352957, 5.011412508168291]\n",
      "Uncertainties of intervals: [0.07976178326892465, 0.07839040718691123, 0.07483420400306165, 0.07164504614153744, 0.08192605912690706]\n",
      "T195_U1-0,82_U3-1,63\n",
      "Intervals between means: [4.816715415192137, 4.889605260279028, 4.9835439261012, 4.998853296184876, 5.064345917823736]\n",
      "Uncertainties of intervals: [0.08408632254943484, 0.08368673926991782, 0.08035190953251758, 0.08045002908573255, 0.07547978016350404]\n"
     ]
    }
   ],
   "source": [
    "intervals = {}\n",
    "interval_errors = {}\n",
    "for k in values:\n",
    "    print(k)\n",
    "    intervals[k]=[]\n",
    "    interval_errors[k]=[]\n",
    "    for i in range(len(values[k]) - 1):\n",
    "        p1_a = values[k][i]\n",
    "        p1_b = values[k][i + 1]\n",
    "        err_a = errors[k][i]\n",
    "        err_b = errors[k][i + 1]\n",
    "\n",
    "        if p1_a is not None and p1_b is not None:\n",
    "            delta = p1_b - p1_a\n",
    "            delta_err = (err_a**2 + err_b**2)**0.5\n",
    "        else:\n",
    "            delta = None\n",
    "            delta_err = None\n",
    "\n",
    "        intervals[k].append(delta)\n",
    "        interval_errors[k].append(delta_err)\n",
    "\n",
    "    print(\"Intervals between means:\", intervals[k])\n",
    "    print(\"Uncertainties of intervals:\", interval_errors[k])\n"
   ]
  },
  {
   "cell_type": "markdown",
   "id": "05546ff7",
   "metadata": {},
   "source": [
    "weighted average"
   ]
  },
  {
   "cell_type": "code",
   "execution_count": 75,
   "id": "a1a10ddb",
   "metadata": {},
   "outputs": [
    {
     "name": "stdout",
     "output_type": "stream",
     "text": [
      "T184_U1-0,82_U3-1,63\n",
      "Weighted average of intervals: 4.957036543899593\n",
      "Uncertainty of the weighted average: 0.03382695692241962\n",
      "T170_U1-0,82_U3-1,34\n",
      "Weighted average of intervals: 4.896797262171094\n",
      "Uncertainty of the weighted average: 0.04050952853447525\n",
      "T204_U1-0,82_U3-1,63\n",
      "Weighted average of intervals: 4.932365790539872\n",
      "Uncertainty of the weighted average: 0.0349156432353695\n",
      "T170_U1-0,82_U3-1,68\n",
      "Weighted average of intervals: 4.9201603427084395\n",
      "Uncertainty of the weighted average: 0.03305024988509815\n",
      "T170_U1-0,80_U3-1,68\n",
      "Weighted average of intervals: 4.994707628261017\n",
      "Uncertainty of the weighted average: 0.038474592038117726\n",
      "T170_U1-0,82_U3-1,02\n",
      "Weighted average of intervals: 4.951661733182144\n",
      "Uncertainty of the weighted average: 0.038913266225661575\n",
      "T170_U1-0,66_U3-1,68\n",
      "Weighted average of intervals: 4.983924549299026\n",
      "Uncertainty of the weighted average: 0.0345092876783611\n",
      "T170_U1-0,88_U3-1,68\n",
      "Weighted average of intervals: 4.920255929510687\n",
      "Uncertainty of the weighted average: 0.034371265890719226\n",
      "T190_U1-0,82_U3-1,63\n",
      "Weighted average of intervals: 4.9420372975817575\n",
      "Uncertainty of the weighted average: 0.03445633283263929\n",
      "T195_U1-0,82_U3-1,63\n",
      "Weighted average of intervals: 4.956942647789267\n",
      "Uncertainty of the weighted average: 0.03605775863429064\n"
     ]
    }
   ],
   "source": [
    "import numpy as np\n",
    "avg=[]\n",
    "err_avg=[]\n",
    "for k in values:\n",
    "    weights = [1 / err**2 for err in interval_errors[k]]\n",
    "    weighted_avg = np.average(intervals[k], weights=weights)\n",
    "    weighted_avg_error = (1 / sum(weights))**0.5\n",
    "    avg.append((k,weighted_avg))\n",
    "    err_avg.append((k,weighted_avg_error))\n",
    "    print(k)\n",
    "    print(\"Weighted average of intervals:\", weighted_avg)\n",
    "    print(\"Uncertainty of the weighted average:\", weighted_avg_error)\n"
   ]
  },
  {
   "cell_type": "code",
   "execution_count": 76,
   "id": "75d60fad",
   "metadata": {},
   "outputs": [
    {
     "data": {
      "text/plain": [
       "[('T184_U1-0,82_U3-1,63', np.float64(4.957036543899593)),\n",
       " ('T170_U1-0,82_U3-1,34', np.float64(4.896797262171094)),\n",
       " ('T204_U1-0,82_U3-1,63', np.float64(4.932365790539872)),\n",
       " ('T170_U1-0,82_U3-1,68', np.float64(4.9201603427084395)),\n",
       " ('T170_U1-0,80_U3-1,68', np.float64(4.994707628261017)),\n",
       " ('T170_U1-0,82_U3-1,02', np.float64(4.951661733182144)),\n",
       " ('T170_U1-0,66_U3-1,68', np.float64(4.983924549299026)),\n",
       " ('T170_U1-0,88_U3-1,68', np.float64(4.920255929510687)),\n",
       " ('T190_U1-0,82_U3-1,63', np.float64(4.9420372975817575)),\n",
       " ('T195_U1-0,82_U3-1,63', np.float64(4.956942647789267))]"
      ]
     },
     "execution_count": 76,
     "metadata": {},
     "output_type": "execute_result"
    }
   ],
   "source": [
    "avg"
   ]
  },
  {
   "cell_type": "code",
   "execution_count": 77,
   "id": "e41d51db",
   "metadata": {},
   "outputs": [
    {
     "data": {
      "text/plain": [
       "[('T184_U1-0,82_U3-1,63', 0.03382695692241962),\n",
       " ('T170_U1-0,82_U3-1,34', 0.04050952853447525),\n",
       " ('T204_U1-0,82_U3-1,63', 0.0349156432353695),\n",
       " ('T170_U1-0,82_U3-1,68', 0.03305024988509815),\n",
       " ('T170_U1-0,80_U3-1,68', 0.038474592038117726),\n",
       " ('T170_U1-0,82_U3-1,02', 0.038913266225661575),\n",
       " ('T170_U1-0,66_U3-1,68', 0.0345092876783611),\n",
       " ('T170_U1-0,88_U3-1,68', 0.034371265890719226),\n",
       " ('T190_U1-0,82_U3-1,63', 0.03445633283263929),\n",
       " ('T195_U1-0,82_U3-1,63', 0.03605775863429064)]"
      ]
     },
     "execution_count": 77,
     "metadata": {},
     "output_type": "execute_result"
    }
   ],
   "source": [
    "err_avg"
   ]
  },
  {
   "cell_type": "code",
   "execution_count": null,
   "id": "8819f4fc",
   "metadata": {},
   "outputs": [
    {
     "name": "stdout",
     "output_type": "stream",
     "text": [
      "****************************************\n",
      "Minimizer is Minuit2 / Migrad\n",
      "Chi2                      =  0.000358925\n",
      "NDf                       =            1\n",
      "Edm                       =    3.606e-07\n",
      "NCalls                    =           65\n",
      "Constant                  =      3126.87   +/-   1229.34     \n",
      "Mean                      =      4.95011   +/-   0.0129182   \n",
      "Sigma                     =    0.0331883   +/-   0.01089      \t (limited)\n"
     ]
    },
    {
     "name": "stderr",
     "output_type": "stream",
     "text": [
      "Warning in <TCanvas::Constructor>: Deleting canvas with same name: c1\n",
      "Warning in <TROOT::Append>: Replacing existing TH1: hist (Potential memory leak).\n",
      "Info in <TCanvas::Print>: png file final_intervals_histogram.png has been created\n"
     ]
    }
   ],
   "source": [
    "final_values = [i[1] for i in avg]\n",
    "final_errors = [i[1] for i in err_avg]\n",
    "ROOT.gStyle.SetOptStat(1)  \n",
    "ROOT.gStyle.SetOptFit(1)   \n",
    "c1 = ROOT.TCanvas(\"c1\", \"Histogram of Final Values\", 1000, 800)\n",
    "\n",
    "hist = ROOT.TH1F(\"hist\", \"Distribution of First Excitation Energy Findings;First Excitation Energy (eV);Counts (weighted)\", 20, 4.8, 5.2)\n",
    "\n",
    "for i in range(len(final_values)):\n",
    "    hist.Fill(final_values[i], 1/final_errors[i]**2)\n",
    "\n",
    "gauss_fit = ROOT.TF1(\"gauss_fit\", \"gaus\", 4.7, 5.3)\n",
    "gauss_fit.SetLineColor(ROOT.kRed)\n",
    "gauss_fit.SetLineWidth(3)\n",
    "\n",
    "hist.Fit(gauss_fit, \"R\") \n",
    "\n",
    "hist.Draw()\n",
    "c1.Update()\n",
    "c1.SaveAs(\"final_intervals_histogram.png\")\n"
   ]
  }
 ],
 "metadata": {
  "kernelspec": {
   "display_name": "proot",
   "language": "python",
   "name": "python3"
  },
  "language_info": {
   "codemirror_mode": {
    "name": "ipython",
    "version": 3
   },
   "file_extension": ".py",
   "mimetype": "text/x-python",
   "name": "python",
   "nbconvert_exporter": "python",
   "pygments_lexer": "ipython3",
   "version": "3.11.11"
  }
 },
 "nbformat": 4,
 "nbformat_minor": 5
}
