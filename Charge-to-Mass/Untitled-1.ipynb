{
 "cells": [
  {
   "cell_type": "code",
   "execution_count": 2,
   "metadata": {},
   "outputs": [
    {
     "name": "stdout",
     "output_type": "stream",
     "text": [
      "V1:\n",
      "B = 2.10e-03 ± 6.92e-06 T\n",
      "B = 1.33e-03 ± 6.92e-06 T\n",
      "B = 9.62e-04 ± 6.92e-06 T\n",
      "B = 7.55e-04 ± 6.92e-06 T\n",
      "V2:\n",
      "B = 1.88e-03 ± 6.92e-06 T\n",
      "B = 1.14e-03 ± 6.92e-06 T\n",
      "B = 8.31e-04 ± 6.92e-06 T\n",
      "B = 6.51e-04 ± 6.92e-06 T\n",
      "I1:\n",
      "B = 1.27e-03 ± 6.92e-06 T\n",
      "I2:\n",
      "B = 1.05e-03 ± 6.92e-06 T\n"
     ]
    }
   ],
   "source": [
    "import numpy as np\n",
    "mu_0=4*np.pi*1e-7\n",
    "\n",
    "def B(I,sigma_I=0.01):\n",
    "    alpha=np.sqrt((4/5)**3)*mu_0*154/0.2 \n",
    "    sigma_b=alpha*sigma_I\n",
    "    return float(f\"{alpha*I:.3g}\"), float(f\"{sigma_b:.3g}\")\n",
    "def V(V,sigma_V=1):\n",
    "    return float(f\"{V:.3g}\"), float(f\"{sigma_V:.3g}\")\n",
    "\n",
    "\n",
    "data_set = {\n",
    "    \"I1\": {\"data\": [89, 135, 228, 354],\"value\": 1.83,\"sigma_value\":0.01},\n",
    "    \"I2\": {\"data\": [73, 105, 169, 246],\"value\": 1.52,\"sigma_value\":0.01},\n",
    "    \"V1\": {\"data\": [3.03, 1.92, 1.39, 1.09],\"value\": 147,\"sigma_value\":1},\n",
    "    \"V2\": {\"data\": [2.72, 1.65, 1.20, 0.94],\"value\": 125,\"sigma_value\":1}}\n",
    "\n",
    "magnetic_field={\"I1\":{},\"I2\":{},\"V1\":{},\"V2\":{}}\n",
    "\n",
    "for item in [\"V1\", \"V2\"]:\n",
    "    magnetic_field[item][\"B_data\"] = []\n",
    "    magnetic_field[item][\"B_errors\"] = []\n",
    "    \n",
    "    for i in data_set[item][\"data\"]:\n",
    "        B_val, B_err = B(i)\n",
    "        magnetic_field[item][\"B_data\"].append(B_val)\n",
    "        magnetic_field[item][\"B_errors\"].append(B_err)\n",
    "    print(f\"{item}:\")\n",
    "    for B_val, B_err in zip(magnetic_field[item]['B_data'], magnetic_field[item]['B_errors']):\n",
    "        print(f\"B = {B_val:.2e} ± {B_err:.2e} T\")\n",
    "\n",
    "for item in [\"I1\",\"I2\"]:\n",
    "    B_val, B_err=B(data_set[item][\"value\"])\n",
    "    magnetic_field[item][\"B_data\"]=B_val\n",
    "    magnetic_field[item][\"B_errors\"]=B_err\n",
    "    print(f\"{item}:\")\n",
    "    B_val, B_err = magnetic_field[item]['B_data'], magnetic_field[item]['B_errors']\n",
    "    print(f\"B = {B_val:.2e} ± {B_err:.2e} T\")"
   ]
  },
  {
   "cell_type": "code",
   "execution_count": 3,
   "metadata": {},
   "outputs": [
    {
     "name": "stdout",
     "output_type": "stream",
     "text": [
      "I1:\n",
      "V = 8.9000e+01 ± 1.0000e+00 V\n",
      "V = 1.3500e+02 ± 1.0000e+00 V\n",
      "V = 2.2800e+02 ± 1.0000e+00 V\n",
      "V = 3.5400e+02 ± 1.0000e+00 V\n",
      "I2:\n",
      "V = 7.3000e+01 ± 1.0000e+00 V\n",
      "V = 1.0500e+02 ± 1.0000e+00 V\n",
      "V = 1.6900e+02 ± 1.0000e+00 V\n",
      "V = 2.4600e+02 ± 1.0000e+00 V\n",
      "V1:\n",
      "V = 1.470e+02 ± 1.000e+00 V\n",
      "V2:\n",
      "V = 1.250e+02 ± 1.000e+00 V\n"
     ]
    }
   ],
   "source": [
    "electric_field={\"I1\":{},\"I2\":{},\"V1\":{},\"V2\":{}}\n",
    "\n",
    "for item in [\"I1\", \"I2\"]:\n",
    "    electric_field[item][\"V_data\"] = []\n",
    "    electric_field[item][\"V_errors\"] = []\n",
    "    for i in data_set[item][\"data\"]:\n",
    "        V_val, V_err = V(i)\n",
    "        electric_field[item][\"V_data\"].append(V_val)\n",
    "        electric_field[item][\"V_errors\"].append(V_err)\n",
    "    print(f\"{item}:\")\n",
    "    for V_val, V_err in zip(electric_field[item]['V_data'], electric_field[item]['V_errors']):\n",
    "        print(f\"V = {V_val:.4e} ± {V_err:.4e} V\")\n",
    "for item in [\"V1\",\"V2\"]:\n",
    "    V_val, V_err=V(data_set[item][\"value\"])\n",
    "    electric_field[item][\"V_data\"]=V_val\n",
    "    electric_field[item][\"V_errors\"]=V_err\n",
    "    print(f\"{item}:\")\n",
    "    V_val, V_err = electric_field[item]['V_data'], electric_field[item]['V_errors']\n",
    "    print(f\"V = {V_val:.3e} ± {V_err:.3e} V\")"
   ]
  },
  {
   "cell_type": "code",
   "execution_count": 4,
   "metadata": {},
   "outputs": [
    {
     "data": {
      "text/plain": [
       "{'I1': {'B_data': 0.00127, 'B_errors': 6.92e-06},\n",
       " 'I2': {'B_data': 0.00105, 'B_errors': 6.92e-06},\n",
       " 'V1': {'B_data': [0.0021, 0.00133, 0.000962, 0.000755],\n",
       "  'B_errors': [6.92e-06, 6.92e-06, 6.92e-06, 6.92e-06]},\n",
       " 'V2': {'B_data': [0.00188, 0.00114, 0.000831, 0.000651],\n",
       "  'B_errors': [6.92e-06, 6.92e-06, 6.92e-06, 6.92e-06]}}"
      ]
     },
     "execution_count": 4,
     "metadata": {},
     "output_type": "execute_result"
    }
   ],
   "source": [
    "magnetic_field"
   ]
  },
  {
   "cell_type": "code",
   "execution_count": 5,
   "metadata": {},
   "outputs": [
    {
     "data": {
      "text/plain": [
       "{'I1': {'V_data': [89.0, 135.0, 228.0, 354.0],\n",
       "  'V_errors': [1.0, 1.0, 1.0, 1.0]},\n",
       " 'I2': {'V_data': [73.0, 105.0, 169.0, 246.0],\n",
       "  'V_errors': [1.0, 1.0, 1.0, 1.0]},\n",
       " 'V1': {'V_data': 147.0, 'V_errors': 1.0},\n",
       " 'V2': {'V_data': 125.0, 'V_errors': 1.0}}"
      ]
     },
     "execution_count": 5,
     "metadata": {},
     "output_type": "execute_result"
    }
   ],
   "source": [
    "electric_field"
   ]
  },
  {
   "cell_type": "code",
   "execution_count": 6,
   "metadata": {},
   "outputs": [
    {
     "data": {
      "text/plain": [
       "{'I1': {'data': [89, 135, 228, 354], 'value': 1.83, 'sigma_value': 0.01},\n",
       " 'I2': {'data': [73, 105, 169, 246], 'value': 1.52, 'sigma_value': 0.01},\n",
       " 'V1': {'data': [3.03, 1.92, 1.39, 1.09], 'value': 147, 'sigma_value': 1},\n",
       " 'V2': {'data': [2.72, 1.65, 1.2, 0.94], 'value': 125, 'sigma_value': 1}}"
      ]
     },
     "execution_count": 6,
     "metadata": {},
     "output_type": "execute_result"
    }
   ],
   "source": [
    "data_set"
   ]
  },
  {
   "cell_type": "markdown",
   "metadata": {},
   "source": [
    "2V /r^2 versus B^2 and 2V versus B^2/r^2"
   ]
  },
  {
   "cell_type": "code",
   "execution_count": 7,
   "metadata": {},
   "outputs": [],
   "source": [
    "def constantV(data_set,magnetic_field):\n",
    "    eq_data=[]\n",
    "    sigma_r = np.sqrt(2) * 1e-3  # sqrt(2) mm converted to meters\n",
    "    for i in [\"V1\",\"V2\"]:\n",
    "        V=data_set[i].get(\"value\")\n",
    "        sigma_V = data_set[i].get(\"sigma_value\", 0)\n",
    "        B_set=magnetic_field[i].get(\"B_data\")\n",
    "        sigma_B = magnetic_field[i].get(\"B_errors\", [0] * len(B_set))\n",
    "        print(f\"Processing {i}: V = {V} ± {sigma_V}, B_set = {B_set} ± {sigma_B}\")\n",
    "        x=[]\n",
    "        y=[]\n",
    "        sigma_x = []\n",
    "        sigma_y = []\n",
    "        for j in range(len(B_set)):\n",
    "            r=(j+2)*1e-2\n",
    "            y_val=2*V/(r**2)\n",
    "            y.append(float(f\"{y_val:.3g}\"))\n",
    "            sigma_y_val = y_val * np.sqrt((sigma_V / V) ** 2 + (2 * sigma_r / r) ** 2)\n",
    "            sigma_y.append(float(f\"{sigma_y_val:.3g}\"))\n",
    "            x.append(float(f\"{B_set[j]**2:.3g}\"))\n",
    "            sigma_x_val = 2 * B_set[j] * sigma_B[j]\n",
    "            sigma_x.append(float(f\"{sigma_x_val:.3g}\")) \n",
    "        eq_data.append([x,sigma_x,y,sigma_y]) \n",
    "    return eq_data       \n",
    "\n",
    "def constantB(electric_field,magnetic_field):\n",
    "    eq_data=[]\n",
    "    sigma_r = np.sqrt(2) * 1e-3  # sqrt(2) mm converted to meters\n",
    "    for i in [\"I1\",\"I2\"]:\n",
    "        B=magnetic_field[i].get(\"B_data\")\n",
    "        sigma_B = magnetic_field[i].get(\"B_errors\", 0)\n",
    "        V_set=electric_field[i].get(\"V_data\")\n",
    "        sigma_V = electric_field[i].get(\"V_errors\", [0] * len(V_set))\n",
    "        print(f\"Processing {i}: B = {B} ± {sigma_B}T, V_set = {V_set} ± {sigma_V}\")\n",
    "        x=[]\n",
    "        y=[]\n",
    "        sigma_x = []\n",
    "        sigma_y = []\n",
    "        for j in range(len(V_set)):\n",
    "            r=(j+2)*1e-2\n",
    "            x_val=B**2*(r**2)\n",
    "            x.append(float(f\"{x_val:.3g}\"))\n",
    "            sigma_x_val = 2*x_val*np.sqrt((sigma_B / B) ** 2 + (2 * sigma_r / r) ** 2)\n",
    "            sigma_x.append(float(f\"{sigma_x_val:.3g}\"))\n",
    "            y.append(float(f\"{V_set[j]*2:.3g}\"))\n",
    "            sigma_y_val = 2 * sigma_V[j]\n",
    "            sigma_y.append(float(f\"{sigma_y_val:.3g}\")) \n",
    "        eq_data.append([x,sigma_x,y,sigma_y]) \n",
    "    return eq_data  "
   ]
  },
  {
   "cell_type": "code",
   "execution_count": 8,
   "metadata": {},
   "outputs": [
    {
     "name": "stdout",
     "output_type": "stream",
     "text": [
      "Processing V1: V = 147 ± 1, B_set = [0.0021, 0.00133, 0.000962, 0.000755] ± [6.92e-06, 6.92e-06, 6.92e-06, 6.92e-06]\n",
      "Processing V2: V = 125 ± 1, B_set = [0.00188, 0.00114, 0.000831, 0.000651] ± [6.92e-06, 6.92e-06, 6.92e-06, 6.92e-06]\n"
     ]
    }
   ],
   "source": [
    "ConstantVdataset=constantV(data_set,magnetic_field)"
   ]
  },
  {
   "cell_type": "code",
   "execution_count": 9,
   "metadata": {},
   "outputs": [
    {
     "data": {
      "text/plain": [
       "[[[4.41e-06, 1.77e-06, 9.25e-07, 5.7e-07],\n",
       "  [2.91e-08, 1.84e-08, 1.33e-08, 1.04e-08],\n",
       "  [735000.0, 327000.0, 184000.0, 118000.0],\n",
       "  [104000.0, 30900.0, 13100.0, 6700.0]],\n",
       " [[3.53e-06, 1.3e-06, 6.91e-07, 4.24e-07],\n",
       "  [2.6e-08, 1.58e-08, 1.15e-08, 9.01e-09],\n",
       "  [625000.0, 278000.0, 156000.0, 100000.0],\n",
       "  [88500.0, 26300.0, 11100.0, 5710.0]]]"
      ]
     },
     "execution_count": 9,
     "metadata": {},
     "output_type": "execute_result"
    }
   ],
   "source": [
    "ConstantVdataset"
   ]
  },
  {
   "cell_type": "code",
   "execution_count": 10,
   "metadata": {},
   "outputs": [
    {
     "name": "stdout",
     "output_type": "stream",
     "text": [
      "Processing I1: B = 0.00127 ± 6.92e-06T, V_set = [89.0, 135.0, 228.0, 354.0] ± [1.0, 1.0, 1.0, 1.0]\n",
      "Processing I2: B = 0.00105 ± 6.92e-06T, V_set = [73.0, 105.0, 169.0, 246.0] ± [1.0, 1.0, 1.0, 1.0]\n"
     ]
    }
   ],
   "source": [
    "ConstantBdataset=constantB(electric_field,magnetic_field)"
   ]
  },
  {
   "cell_type": "code",
   "execution_count": 11,
   "metadata": {},
   "outputs": [
    {
     "data": {
      "text/plain": [
       "[[[6.45e-10, 1.45e-09, 2.58e-09, 4.03e-09],\n",
       "  [1.83e-10, 2.74e-10, 3.66e-10, 4.58e-10],\n",
       "  [178.0, 270.0, 456.0, 708.0],\n",
       "  [2.0, 2.0, 2.0, 2.0]],\n",
       " [[4.41e-10, 9.92e-10, 1.76e-09, 2.76e-09],\n",
       "  [1.25e-10, 1.88e-10, 2.51e-10, 3.14e-10],\n",
       "  [146.0, 210.0, 338.0, 492.0],\n",
       "  [2.0, 2.0, 2.0, 2.0]]]"
      ]
     },
     "execution_count": 11,
     "metadata": {},
     "output_type": "execute_result"
    }
   ],
   "source": [
    "ConstantBdataset"
   ]
  },
  {
   "cell_type": "markdown",
   "metadata": {},
   "source": [
    "Datasets(V1,V2,I1,I2 respectively):\n",
    "\n",
    "    float x[ndata] = {4.41e-06, 1.77e-06, 9.25e-07, 5.7e-07};\n",
    "    float sx[ndata] = {2.91e-08, 1.84e-08, 1.33e-08, 1.04e-08};\n",
    "    float y[ndata] = {735000.0, 327000.0, 184000.0, 118000.0};\n",
    "    float sy[ndata] = {104000.0, 30900.0, 13100.0, 6700.0}; \n",
    "\n",
    "    float x[ndata] = {3.53e-06, 1.3e-06, 6.91e-07, 4.24e-07};\n",
    "    float sx[ndata] = {2.6e-08, 1.58e-08, 1.15e-08, 9.01e-09};\n",
    "    float y[ndata] = {625000.0, 278000.0, 156000.0, 100000.0};\n",
    "    float sy[ndata] = {88500.0, 26300.0, 11100.0, 5710.0};\n",
    "\n",
    "    float x[ndata] = {6.45e-10, 1.45e-09, 2.58e-09, 4.03e-09};\n",
    "    float sx[ndata] = {1.83e-10, 2.74e-10, 3.66e-10, 4.58e-10};\n",
    "    float y[ndata] = {178.0, 270.0, 456.0, 708.0};\n",
    "    float sy[ndata] = {2.0, 2.0, 2.0, 2.0}; \n",
    "\n",
    "    float x[ndata] = {4.41e-10, 9.92e-10, 1.76e-09, 2.76e-09};\n",
    "    float sx[ndata] = {1.25e-10, 1.88e-10, 2.51e-10, 3.14e-10};\n",
    "    float y[ndata] = {146.0, 210.0, 338.0, 492.0};\n",
    "    float sy[ndata] = {2.0, 2.0, 2.0, 2.0}; "
   ]
  },
  {
   "cell_type": "code",
   "execution_count": 12,
   "metadata": {},
   "outputs": [
    {
     "name": "stdout",
     "output_type": "stream",
     "text": [
      "Weighted average of q/m0: 1.65e+11\n",
      "Uncertainty of the weighted average: 9.57e+09\n"
     ]
    }
   ],
   "source": [
    "\n",
    "# Define the values and their uncertainties\n",
    "values = np.array([1.70e11, 1.88e11, 1.54e11, 1.49e11])  # q/m0 values\n",
    "uncertainties = np.array([1.79e10, 1.99e10, 1.98e10, 1.92e10])  # uncertainties\n",
    "\n",
    "# Calculate the weighted average\n",
    "weights = 1 / (uncertainties**2)  # weights = 1 / sigma^2\n",
    "weighted_average = np.sum(values * weights) / np.sum(weights)\n",
    "\n",
    "# Calculate the uncertainty of the weighted average\n",
    "uncertainty_final = np.sqrt(1 / np.sum(weights))\n",
    "\n",
    "# Print the results\n",
    "print(f\"Weighted average of q/m0: {weighted_average:.2e}\")\n",
    "print(f\"Uncertainty of the weighted average: {uncertainty_final:.2e}\")"
   ]
  }
 ],
 "metadata": {
  "kernelspec": {
   "display_name": "proot",
   "language": "python",
   "name": "python3"
  },
  "language_info": {
   "codemirror_mode": {
    "name": "ipython",
    "version": 3
   },
   "file_extension": ".py",
   "mimetype": "text/x-python",
   "name": "python",
   "nbconvert_exporter": "python",
   "pygments_lexer": "ipython3",
   "version": "3.11.11"
  }
 },
 "nbformat": 4,
 "nbformat_minor": 2
}
