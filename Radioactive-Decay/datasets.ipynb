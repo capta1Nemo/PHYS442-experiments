{
 "cells": [
  {
   "cell_type": "markdown",
   "metadata": {},
   "source": [
    "1      00:05.92      00:05.92\n",
    "2      00:09.39      00:03.47\n",
    "3      00:13.09      00:03.70\n",
    "4      00:16.21      00:03.12\n",
    "5      00:20.67      00:04.46\n",
    "6      00:24.99      00:04.32\n",
    "7      00:28.48      00:03.49\n",
    "8      00:33.79      00:05.31\n",
    "9      00:37.93      00:04.14\n",
    "10      00:44.67      00:06.74\n",
    "11      00:49.13      00:04.46\n",
    "12      00:55.76      00:06.63\n",
    "13      01:03.23      00:07.47\n",
    "14      01:10.62      00:07.39\n",
    "15      01:18.95      00:08.33\n",
    "16      01:27.79      00:08.84\n",
    "17      01:37.35      00:09.56\n",
    "18      01:48.68      00:11.33\n",
    "19      02:00.83      00:12.15\n",
    "20      02:37.08      00:36.25\n",
    "21      03:05.90      00:28.82\n",
    "22      03:37.98      00:32.08\n",
    "23      04:44.84      01:06.86"
   ]
  },
  {
   "cell_type": "code",
   "execution_count": 1,
   "metadata": {},
   "outputs": [],
   "source": [
    "import numpy as np"
   ]
  },
  {
   "cell_type": "code",
   "execution_count": 2,
   "metadata": {},
   "outputs": [],
   "source": [
    "def seconds(time_str):\n",
    "\n",
    "    minutes, seconds_ms = time_str.split(':')\n",
    "    seconds, milliseconds = seconds_ms.split('.')\n",
    "\n",
    "    minutes = int(minutes)\n",
    "    seconds = int(seconds)\n",
    "    milliseconds = int(milliseconds)\n",
    "\n",
    "    total_seconds = minutes * 60 + seconds + milliseconds / 100\n",
    "\n",
    "    return float(f\"{total_seconds:.5g}\")\n",
    "\n",
    "def mid_point(arr):\n",
    "    arr=np.array(arr)\n",
    "    midpoints = (arr[:-1] + arr[1:]) / 2\n",
    "    return midpoints"
   ]
  },
  {
   "cell_type": "code",
   "execution_count": 3,
   "metadata": {},
   "outputs": [
    {
     "name": "stdout",
     "output_type": "stream",
     "text": [
      "[8.65, 10.74, 14.2, 17.32, 20.48, 24.26, 27.6, 31.6, 35.31, 39.47, 44.19, 48.55, 53.23, 58.94, 64.62, 70.9, 77.55, 84.92, 93.03, 101.97, 112.03, 123.01, 136.01, 151.83, 171.84, 195.67, 229.82, 288.47]\n"
     ]
    }
   ],
   "source": [
    "file_path = '/home/master/Desktop/PHYS442-experiments/Radioactive-Decay/data.txt' \n",
    "dict={}\n",
    "keys=[]\n",
    "count=0\n",
    "append=False\n",
    "with open(file_path, 'r') as file:\n",
    "    for line in file:\n",
    "        line=line.strip()\n",
    "        if line==\"start\":\n",
    "            append=True\n",
    "        if not append:\n",
    "            dict[line]=[]\n",
    "            keys.append(line)\n",
    "            count+=1   \n",
    "        if append:\n",
    "            columns = line.split()\n",
    "            if len(columns) > 1: \n",
    "                dict[keys[count-1]].append(seconds(columns[1]))\n",
    "        if line==\"end\":\n",
    "            append=False           \n",
    "print(dict[keys[1]])"
   ]
  },
  {
   "cell_type": "code",
   "execution_count": 4,
   "metadata": {},
   "outputs": [],
   "source": [
    "si={}\n",
    "ti={}\n",
    "for i in keys:\n",
    "    si[i]=np.diff(dict[i])\n",
    "    ti[i]=mid_point(dict[i])"
   ]
  },
  {
   "cell_type": "code",
   "execution_count": 5,
   "metadata": {},
   "outputs": [
    {
     "data": {
      "text/plain": [
       "{'2.5-2': array([ 3.7 ,  3.12,  4.46,  4.32,  3.49,  5.31,  4.14,  6.74,  4.46,\n",
       "         6.63,  7.47,  7.39,  8.33,  8.84,  9.56, 11.33, 12.15, 36.25,\n",
       "        28.82, 32.08, 66.86]),\n",
       " '2.5-3': array([ 2.09,  3.46,  3.12,  3.16,  3.78,  3.34,  4.  ,  3.71,  4.16,\n",
       "         4.72,  4.36,  4.68,  5.71,  5.68,  6.28,  6.65,  7.37,  8.11,\n",
       "         8.94, 10.06, 10.98, 13.  , 15.82, 20.01, 23.83, 34.15, 58.65]),\n",
       " '2.5-4': array([ 1.87,  3.22,  3.4 ,  2.63,  3.72,  3.9 ,  3.87,  3.98,  3.84,\n",
       "         4.59,  4.65,  4.95,  5.27,  5.62,  5.72,  6.09,  7.5 ,  7.92,\n",
       "         8.61,  9.4 , 11.6 ,  9.34, 14.58, 19.41, 22.38, 30.36, 56.71]),\n",
       " '2.5-5': array([ 2.5 ,  2.43,  2.76,  2.48,  3.19,  2.82,  3.25,  2.99,  3.36,\n",
       "         3.35,  3.17,  3.87,  4.59,  3.79,  4.32,  4.67,  4.84,  5.46,\n",
       "         5.78,  6.63,  6.73,  6.3 ,  7.99, 10.2 ,  7.98, 11.27, 15.27,\n",
       "        15.58, 16.85, 21.72, 30.71, 56.54, 83.35]),\n",
       " '3.0-2': array([ 4.59,  2.9 ,  4.79,  4.11,  3.77,  5.42,  5.4 ,  6.03,  4.85,\n",
       "         7.11,  7.34,  7.3 ,  8.81,  9.96,  9.76, 12.73, 14.33, 16.94,\n",
       "        23.88, 31.35, 39.08, 92.17]),\n",
       " '3.0-3': array([ 5.83,  3.45,  3.6 ,  3.84,  3.73,  5.29,  4.34,  4.07,  6.13,\n",
       "         4.95,  5.71,  5.63,  7.89,  8.33,  8.16,  9.32,  9.79, 13.55,\n",
       "        11.18, 19.  , 20.88, 27.12, 41.81, 63.2 ]),\n",
       " '3.0-4': array([ 2.9 ,  2.89,  2.63,  2.78,  3.24,  2.9 ,  3.65,  3.81,  3.08,\n",
       "         3.97,  3.86,  4.26,  3.55,  5.34,  4.87,  4.89,  5.93,  6.31,\n",
       "         6.49,  7.55,  7.98,  6.4 , 10.99, 12.32, 11.35, 19.76, 14.08,\n",
       "        25.01, 25.64, 62.68]),\n",
       " '3.0-5': array([ 4.95,  6.52,  4.03,  4.5 ,  4.32,  4.43,  4.69,  5.19,  7.3 ,\n",
       "        10.84,  6.48,  7.16,  9.01,  8.05, 13.76,  8.81, 16.5 , 14.54,\n",
       "        23.11, 24.47, 42.01, 69.09]),\n",
       " '3.5-2': array([ 4.17,  3.92,  3.24,  5.16,  3.68,  5.6 ,  3.67,  6.87,  4.92,\n",
       "         6.06,  7.98,  6.52,  9.51,  8.19,  9.61, 10.65, 13.66, 13.5 ,\n",
       "        24.33, 17.86, 40.79, 50.23]),\n",
       " '3.5-3': array([ 3.88,  2.66,  3.76,  2.77,  4.58,  3.09,  3.53,  5.11,  3.99,\n",
       "         3.83,  5.6 ,  4.71,  6.19,  5.02,  6.81,  6.53,  7.36, 10.66,\n",
       "         8.66,  8.96, 12.04, 16.81, 14.45, 18.01, 40.2 , 31.35, 70.98]),\n",
       " '3.5-4': array([ 3.16,  2.97,  4.3 ,  2.66,  4.72,  2.89,  4.98,  3.84,  4.86,\n",
       "         5.26,  5.21,  6.6 ,  5.33,  6.79,  7.18,  7.45,  6.43, 12.81,\n",
       "         9.3 , 12.97, 14.76, 14.55, 24.01, 31.  , 37.07, 74.19]),\n",
       " '3.5-5': array([ 2.79,  2.45,  3.01,  2.19,  3.98,  2.67,  2.97,  3.55,  3.14,\n",
       "         3.52,  4.62,  3.43,  4.74,  4.34,  4.2 ,  5.39,  4.84,  4.81,\n",
       "         6.6 ,  6.97,  6.49,  7.84,  7.04, 11.64,  9.34,  9.81, 15.99,\n",
       "        16.56, 19.33, 31.56, 32.61, 76.78]),\n",
       " '4.0-2': array([ 3.56,  3.65,  3.96,  3.47,  5.33,  4.27,  4.21,  5.95,  5.3 ,\n",
       "         6.93,  5.55,  6.99,  8.18,  8.35,  7.74, 12.32, 11.32, 15.15,\n",
       "        13.65, 25.26, 26.72, 35.38, 80.87]),\n",
       " '4.0-3': array([ 3.83,  3.39,  4.  ,  4.05,  4.54,  5.06,  4.6 ,  4.36,  5.64,\n",
       "         5.6 ,  6.87,  7.09,  8.22,  6.33, 10.85,  8.6 , 12.47, 13.57,\n",
       "         7.74, 23.58, 30.01, 25.7 , 50.14, 81.9 ]),\n",
       " '4.0-4': array([  2.69,   2.74,   2.94,   2.73,   3.09,   3.42,   3.19,   3.36,\n",
       "          3.6 ,   3.75,   4.2 ,   4.07,   4.22,   3.37,   6.26,   4.22,\n",
       "          7.04,   5.06,   5.58,   8.02,   7.89,   8.23,   9.33,   8.89,\n",
       "         12.26,  13.35,  16.89,  17.29,  27.11,  31.38,  48.85, 134.89]),\n",
       " '4.0-5': array([  2.07,   3.53,   2.48,   3.84,   2.32,   4.27,   2.65,   4.48,\n",
       "          3.38,   4.52,   4.42,   4.91,   4.45,   4.9 ,   4.66,   5.8 ,\n",
       "          7.57,   6.59,   7.89,   7.56,   9.67,   9.13,  11.23,  11.66,\n",
       "         20.21,  16.24,  26.41,  36.44,  47.4 , 112.93])}"
      ]
     },
     "execution_count": 5,
     "metadata": {},
     "output_type": "execute_result"
    }
   ],
   "source": [
    "si"
   ]
  },
  {
   "cell_type": "code",
   "execution_count": 6,
   "metadata": {},
   "outputs": [
    {
     "data": {
      "text/plain": [
       "[<matplotlib.lines.Line2D at 0x7925969a4350>]"
      ]
     },
     "execution_count": 6,
     "metadata": {},
     "output_type": "execute_result"
    },
    {
     "data": {
      "image/png": "[encoded data removed]",
      "text/plain": [
       "<Figure size 640x480 with 1 Axes>"
      ]
     },
     "metadata": {},
     "output_type": "display_data"
    }
   ],
   "source": [
    "import matplotlib.pyplot as plt\n",
    "\n",
    "x=ti[keys[1]]\n",
    "y=[1/j for j in si[keys[1]]]\n",
    "plt.plot(x,y)"
   ]
  },
  {
   "cell_type": "code",
   "execution_count": 7,
   "metadata": {},
   "outputs": [],
   "source": [
    "sigma_ti={}\n",
    "for item in ti:\n",
    "    sigma_ti[item]= np.full(len(ti[item]), 0.3)"
   ]
  },
  {
   "cell_type": "code",
   "execution_count": 8,
   "metadata": {},
   "outputs": [],
   "source": [
    "sigma_si={}\n",
    "for item in si:\n",
    "    sigma_si[item]=[]\n",
    "    for j in si[item]:\n",
    "        sigma_si[item].append(float(f\"{0.6/(j**2):.2g}\")) \n",
    "        "
   ]
  },
  {
   "cell_type": "code",
   "execution_count": 9,
   "metadata": {},
   "outputs": [],
   "source": [
    "import os \n",
    "output_dir = \"/home/master/Desktop/PHYS442-experiments/Radioactive-Decay/data\"  \n",
    "os.makedirs(output_dir, exist_ok=True) \n",
    "for key in keys:\n",
    "    file_path = os.path.join(output_dir, f\"{key}.txt\")\n",
    "    with open(file_path, 'w') as file:\n",
    "        # Write the array to the file\n",
    "        file.write('\\n'.join(f\"{x:.3g}\\t{1/y:.3g}\\t{sx:.2g}\\t{sy:.2g}\" for x, y, sx, sy in zip(ti[key], si[key],sigma_ti[key],sigma_si[key])))"
   ]
  },
  {
   "cell_type": "code",
   "execution_count": null,
   "metadata": {},
   "outputs": [],
   "source": [
    "def compute_weighted_mean(filename):\n",
    "    data = np.loadtxt(filename, usecols=(1, 2), skiprows=1)\n",
    "    \n",
    "    lambda_values = data[:, 0]  # Second column (lambda values)\n",
    "    uncertainties = data[:, 1]  # Third column (uncertainties)\n",
    "    weights = 1 / uncertainties**2\n",
    "    weighted_mean = np.sum(weights * lambda_values) / np.sum(weights)\n",
    "\n",
    "    weighted_uncertainty = np.sqrt(1/np.sum(weights))\n",
    "    \n",
    "    return weighted_mean, weighted_uncertainty\n",
    "\n",
    "filename = \"/home/master/Desktop/PHYS442-experiments/Radioactive-Decay/results/fit_results.txt\" \n",
    "mean, uncertainty = compute_weighted_mean(filename)\n",
    "print(f\"Weighted Mean: {mean:} ± {uncertainty:}\")"
   ]
  },
  {
   "cell_type": "code",
   "execution_count": 11,
   "metadata": {},
   "outputs": [
    {
     "name": "stdout",
     "output_type": "stream",
     "text": [
      "half life: 65.8+-0.2s\n"
     ]
    }
   ],
   "source": [
    "half_life=(f\"{np.log(2)/mean:.3g}\") \n",
    "error=(f\"{uncertainty/mean**2:.1g}\")\n",
    "print(f\"half life: {half_life}+-{error}s\")"
   ]
  }
 ],
 "metadata": {
  "kernelspec": {
   "display_name": "proot",
   "language": "python",
   "name": "python3"
  },
  "language_info": {
   "codemirror_mode": {
    "name": "ipython",
    "version": 3
   },
   "file_extension": ".py",
   "mimetype": "text/x-python",
   "name": "python",
   "nbconvert_exporter": "python",
   "pygments_lexer": "ipython3",
   "version": "3.11.11"
  }
 },
 "nbformat": 4,
 "nbformat_minor": 2
}
